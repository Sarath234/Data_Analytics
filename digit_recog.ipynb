import csv
import numpy as np
import matplotlib.pyplot as plt
train=[]
with open('train.csv', 'rb') as f:
    reader_ = csv.reader(f)
    header=reader_.next()
    for row in reader_:
        train.append(row)
reader_=None
train=np.array(train)
test=[]
with open('test.csv', 'rb') as f1:
    reader_1 = csv.reader(f1)
    header=reader_1.next()
    for row in reader_1:
        test.append(row)
reader_1=None
test=np.array(test).astype(float)
target=train[:,0]
target=np.array(target)
target=target.astype(int)
train=train[:,1:]
train=train.astype(float)
train=train.reshape(42000,28,28)
images_and_labels = list(zip(train,target))
for index, (image, label) in enumerate(images_and_labels[:4]):
    plt.subplot(2, 4, index + 1)
    plt.axis('off')
    plt.imshow(image, cmap=plt.cm.gray_r, interpolation='nearest')
    plt.title('Training: %i' % label)
train=train.reshape(42000,784)
from sklearn.ensemble import RandomForestClassifier
clf=RandomForestClassifier()
clf.fit(train,target)
test=test.reshape(28000,784)
predicted=clf.predict(test)
test=test.reshape(28000,28,28)
images_and_labels = list(zip(test,predicted))
for index, (image, label) in enumerate(images_and_labels[11:15]):
    plt.subplot(2, 4, index + 5)
    plt.axis('off')
    plt.imshow(image, cmap=plt.cm.gray_r, interpolation='nearest')
    plt.title('Prediction: %i' % label)
plt.show()
